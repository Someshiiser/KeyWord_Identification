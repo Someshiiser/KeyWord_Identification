{
 "cells": [
  {
   "cell_type": "code",
   "execution_count": null,
   "id": "20a1a7f4",
   "metadata": {},
   "outputs": [
    {
     "name": "stdout",
     "output_type": "stream",
     "text": [
      "Successfully fetched the webpage!\n"
     ]
    }
   ],
   "source": [
    "import requests  # Python library to send HTTP requests.\n",
    "\n",
    "url = \"https://www.iisermohali.ac.in/\"\n",
    "#url= \"https://timesofindia.indiatimes.com/\"\n",
    "\n",
    "response = requests.get(url)\n",
    "\n",
    "# Check if request succeeded\n",
    "if response.status_code == 200:\n",
    "    html_content = response.text  # This is the raw HTML\n",
    "    print(\"Successfully fetched the webpage!\")\n",
    "else:\n",
    "    print(\"Failed to fetch the webpage. Status code:\", response.status_code)\n"
   ]
  },
  {
   "cell_type": "code",
   "execution_count": 4,
   "id": "a8dbc4fb",
   "metadata": {},
   "outputs": [
    {
     "name": "stdout",
     "output_type": "stream",
     "text": [
      " IISER MOHALI Institute Academics Research People Outreach 79th Independence Day Celebration at IISER Mohali International Yoga Day Celebration at IISER Mohali IISER Mohali awarded degrees to 316 Graduating Students IISER Mohali Science Festival - Inaugurated by Hon'ble Education Minister of Punjab Science demonstrations & competitions The Hon'ble Vice-President of India interacts with IISER Mohali Faculty, Students & Staff Visit of Hon'ble Vice-President of India to IISER Mohali Tattva 2025 Science Fest - Celebrating the essence of Scientific Curiosity  76th Republic Day Celebration at IISER Mohali 500+ School students at IISER Mohali for National Space Day Annual Science Festival Lectures by Dr. Anjan Ray & Dr. Srivari Chandrashekhar Students awarded for outstanding performance in Academics & Sports FACULTY ACHIEVEMENTS PROFESSOR ANIL KUMAR TRIPATHI Director, IISER Mohali Elected as Vice President (Science Promotion) of INSA  1800 school students across tricity visited IISER Mohali  SPOTLIGHTS  DEPARTMENTS  ACADEMIC PROGRAMMES  EVENTS UPCOMING GALLERY\n",
      "\n",
      " website policy  Copyright Policy  Privacy Policy  Terms of use  Website Feedback Connect with us IISER Mohali, Knowledge city, Sector 81, SAS Nagar, Manauli PO 140306Telefax : 2240266, 2240124 \n",
      "+91 - 172 - 2240266\n",
      " +91 - 172 - 2240266 +91 - 172 - 2240266    Administrative Sections  Directorate  Registrar Office  General Administration  Recruitment  Establishment  Purchase & Stores Campus Facilities   Library   Computer Center  Visitors Hostel  Institute Dispensary  Sports Facilities  Counselling Service  Transport  Day Care Departments   Biological Sciences   Physical Sciences   Chemical Sciences   Mathematical Sciences   Humanities & Social Sciences   Earth & Environmental Sciences committees  Central Research Facility Committees  NIRF   ICC - Internal Complaints Committee  Grievance Committee  SC/ST/OBC Committee  Safety & Ethics Committees  Research Advisory Committee  Others Archive  Public Lectures   Conferences  News Archives  In the Media  Press Release  Institute Events  Events Calendar  Faculty Achievements  Alumni News Links  Academies of Science   CCS Conduct Rules  Funding Agencies  MHRD Funded Institutes  CRIKC Institutes   MoE   IISER System Quick Find  Admission News  Anti-ragging committee  Campus Facilities  Convocation  Careers  Download Forms   ERP  eSanad   Holiday Calendar-2025   Holiday Calendar-2026  Home   Hostel Rules & Guidelines  ICC - Internal Complaints Committee   MOODLE  News & Announcements  NIRF   Opportunity Cell  Reach Us  RTI   SRC - Student Representative Council   Ticketing System Advertisements   Tenders / EOI CAREERS  Faculty Recruitments  Research Positions  Non-Teaching Positions © Copyright IISER Mohali  2025.     |     Hosting & Maintenance by IISER Mohali Computer Center     |     Image Credits - IISERM Lumiere Club & Community Members  Institute  Academics  Research  People  Outreach Search\n"
     ]
    }
   ],
   "source": [
    "from bs4 import BeautifulSoup\n",
    "\n",
    "# Parse the HTML content\n",
    "soup = BeautifulSoup(html_content, 'html.parser')\n",
    "# html\n",
    "# ├── head\n",
    "# │   └── title → 'IISER Mohali'\n",
    "# └── body\n",
    "#     ├── h1 → 'Welcome to IISER Mohali'\n",
    "#     ├── p  → 'Indian Institute...'\n",
    "#     └── p  → 'Established by...'\n",
    "# We are assuming that all text content is within these tags.\n",
    "# This is a very basic assumption and may not work for all websites.\n",
    "# Best way to check is to inspect the website and see where the text lies.\n",
    "# Extract text from common tags\n",
    "valid_tags = ['p', 'h1', 'h2', 'h3', 'h4', 'h5', 'h6', 'li'] # valid tags only from the html file, h->heading, p->paragraph, li->list\n",
    "text = \" \".join([element.get_text() for element in soup.find_all(valid_tags)]) # join the entire string into one.\n",
    "\n",
    "print(text[:])  # print characters\n"
   ]
  },
  {
   "cell_type": "markdown",
   "id": "344cf0f7",
   "metadata": {},
   "source": [
    "Now after getting the 'text' part , our next step is to clean the text we get after parsing.\n",
    "This includes getting rid of symbols , punctuations and numbers and converting all the text to lower case, so that we can standardize the text for word frequency analysis . \n"
   ]
  },
  {
   "cell_type": "code",
   "execution_count": null,
   "id": "6d28da43",
   "metadata": {},
   "outputs": [],
   "source": [
    "import re\n",
    "\n",
    "def clean(text:str) -> str:\n",
    "\n",
    "   text = text.lower() #convert text to lower case\n",
    "\n",
    "   text =re.sub(r'[^a-z\\s]', ' ',text)\n",
    "\n",
    "   text = re.sub(r'\\b(?![ai]\\b)[a-z]\\b',' ',text)\n",
    "\n",
    "   text = re.sub(r'\\s+',' ',text).strip()\n",
    "\n",
    "   return text\n",
    "\n",
    "clean(text)\n",
    "\n",
    "cleaned_text = clean(text)\n"
   ]
  },
  {
   "cell_type": "markdown",
   "id": "96e9018b",
   "metadata": {},
   "source": [
    "##### Now we will break the string into single words and count the frequencies.\n",
    "##### That is, tokenize, count and store."
   ]
  },
  {
   "cell_type": "code",
   "execution_count": null,
   "id": "6e9f0679",
   "metadata": {},
   "outputs": [
    {
     "name": "stdout",
     "output_type": "stream",
     "text": [
      "Top 10 most used words:\n",
      "       iiser : 15\n",
      "      mohali : 14\n",
      "          of : 8\n",
      "     science : 6\n",
      "    sciences : 6\n",
      "   committee : 6\n",
      "    research : 5\n",
      "         day : 5\n",
      "    students : 5\n",
      "   institute : 4\n",
      "          at : 4\n",
      "     faculty : 4\n",
      "        news : 4\n",
      "   academics : 3\n",
      " celebration : 3\n",
      "          by : 3\n",
      "         hon : 3\n",
      "         ble : 3\n",
      "         the : 3\n",
      "        vice : 3\n"
     ]
    }
   ],
   "source": [
    "from collections import Counter\n",
    "\n",
    "def count_words(cleaned_text: str) -> Counter:\n",
    "    \"\"\"\n",
    "    Takes a cleaned text string (only lowercase letters and spaces),\n",
    "    returns a Counter mapping word -> frequency.\n",
    "    \"\"\"\n",
    "\n",
    "    words = cleaned_text.split() # splits the cleaned string over white spaces\n",
    "\n",
    "    word_counter = Counter(words) # gets frequency of words   \n",
    "\n",
    "    return word_counter\n",
    "\n",
    "Counted_words = count_words(cleaned_text)\n",
    "most_used = Counted_words.most_common(20)\n",
    "\n",
    "print(\"Top 10 most used words:\")\n",
    "for word,freq in most_used:\n",
    "    print(f\"{word:>12} : {freq}\")\n"
   ]
  },
  {
   "cell_type": "markdown",
   "id": "95ef300e",
   "metadata": {},
   "source": [
    "Now, we need to store data. It is database where we can query, filter and join across multiple sites later.\n",
    "\n",
    "CSV is static: you can only store and read rows.\n",
    "SQLite is dynamic: you can query — “show words used more than 50 times,” or “compare IISER Mohali vs Pune.”"
   ]
  },
  {
   "cell_type": "code",
   "execution_count": null,
   "id": "ed40035b",
   "metadata": {},
   "outputs": [],
   "source": [
    "import sqlite3\n",
    "\n",
    "def store_sqlite(word_counts: Counter, db_path='words.db', table='word_frequency'):\n",
    "    # word_counts: Counter — our counted data from earlier (Counter is like a dict: {word: freq}).\n",
    "    # db_path='words.db' — the name of the database file.\n",
    "    # table='word_frequency' — the name of the SQL table to store data in.\n",
    "\n",
    "    # Connect to the database \n",
    "    conn = sqlite3.connect(db_path) # Opens (or creates) a database file. conn is the returned object here -> active connection to that database.\n",
    "    cur = conn.cursor() # Gives you a cursor, which is like a “pen” used to execute SQL commands.\n",
    "    #SQL databases work transactionally — you make changes through a cursor, then commit them all at once.\n",
    "\n",
    "    # Create table\n",
    "    cur.execute(f\"\"\"\n",
    "        CREATE TABLE IF NOT EXISTS {table} (\n",
    "            id INTEGER PRIMARY KEY AUTOINCREMENT,\n",
    "            word TEXT UNIQUE,\n",
    "            frequency INTEGER\n",
    "        )\n",
    "    \"\"\")\n",
    "        # id INTEGER PRIMARY KEY AUTOINCREMENT → auto numbering for each row.\n",
    "        # word TEXT UNIQUE → ensures no duplicates (each word appears once).\n",
    "        # frequency INTEGER → stores how often the word appears.\n",
    "        # SQL needs data types. TEXT for words, INTEGER for counts.\n",
    "\n",
    "    # updating the table, putting values in it.\n",
    "    for i , freq in word_counts.items(): # loop over all wordandfreqency pairs\n",
    "        cur.execute(f\"\"\"\n",
    "            INSERT INTO {table} (word , frequency)\n",
    "            VALUES (? , ?)\n",
    "            ON CONFLICT(word) DO UPDATE SET frequency = excluded.frequency\n",
    "        \"\"\", (i,freq))\n",
    "        # executing againusing the cursor, \n",
    "        # INSERT INTO {table} (word , frequency) VALUES (? , ?) ---->>>> adds a new row\n",
    "        # ? -> replaced by (i, freq), \n",
    "        # ON CONFLICT(word) DO UPDATE --->>> if same word then update earlier thing.\n",
    "\n",
    "    ## save the changes.\n",
    "    conn.commit() # permanently writes all pending changes to disk.\n",
    "    conn.close() # ends the database session freeign the used resources.\n"
   ]
  },
  {
   "cell_type": "code",
   "execution_count": null,
   "id": "5cfe8764",
   "metadata": {},
   "outputs": [],
   "source": [
    "## now to read the stored data back, we proceed as.\n",
    "\n",
    "def read_sql(db_path='words.db', table='word_frequency', top=20):\n",
    "    conn = sqlite3.connect(db_path)\n",
    "    cur = conn.cursor()\n",
    "    cur.execute(f\"SELECT word , frequency FROM {table} ORDER BY frequency DESC LIMIT ?\", (top,))\n",
    "    rows = cur.fetchall()\n",
    "    conn.close\n",
    "    return rows  \n",
    "\n",
    "## It do as:\n",
    "# SELECT word, frequency\n",
    "# FROM word_frequency\n",
    "# ORDER BY frequency DESC\n",
    "# LIMIT top = 20;  "
   ]
  },
  {
   "cell_type": "code",
   "execution_count": null,
   "id": "ccd5ff17",
   "metadata": {},
   "outputs": [
    {
     "name": "stdout",
     "output_type": "stream",
     "text": [
      "       iiser  15\n",
      "      mohali  14\n",
      "          of  8\n",
      "     science  6\n",
      "    sciences  6\n",
      "   committee  6\n",
      "    research  5\n",
      "         day  5\n",
      "    students  5\n",
      "   institute  4\n",
      "          at  4\n",
      "     faculty  4\n",
      "        news  4\n",
      "   academics  3\n",
      " celebration  3\n",
      "          by  3\n",
      "         hon  3\n",
      "         ble  3\n",
      "         the  3\n",
      "        vice  3\n"
     ]
    }
   ],
   "source": [
    "store_sqlite(Counted_words)\n",
    "TOP_20 = read_sql()\n",
    "for w, f in TOP_20:\n",
    "    print(f\"{w:>12}  {f}\")"
   ]
  },
  {
   "cell_type": "markdown",
   "id": "bf82ac0f",
   "metadata": {},
   "source": [
    "#### Now we sqlite3 DB, we need to store multiple sites data into it, iteratively or seperately."
   ]
  },
  {
   "cell_type": "code",
   "execution_count": null,
   "id": "3aa3b83f",
   "metadata": {},
   "outputs": [],
   "source": []
  }
 ],
 "metadata": {
  "kernelspec": {
   "display_name": "Python (dsenv)",
   "language": "python",
   "name": "dsenv"
  }
 },
 "nbformat": 4,
 "nbformat_minor": 5
}
