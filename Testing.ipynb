{
 "cells": [
  {
   "cell_type": "code",
   "execution_count": null,
   "id": "20a1a7f4",
   "metadata": {},
   "outputs": [
    {
     "name": "stdout",
     "output_type": "stream",
     "text": [
      "Successfully fetched the webpage!\n"
     ]
    }
   ],
   "source": [
    "import requests  # Python library to send HTTP requests.\n",
    "\n",
    "url = \"https://www.iisermohali.ac.in/\"\n",
    "\n",
    "response = requests.get(url)\n",
    "\n",
    "# Check if request succeeded\n",
    "if response.status_code == 200:\n",
    "    html_content = response.text  # This is the raw HTML\n",
    "    print(\"Successfully fetched the webpage!\")\n",
    "else:\n",
    "    print(\"Failed to fetch the webpage. Status code:\", response.status_code)\n"
   ]
  },
  {
   "cell_type": "code",
   "execution_count": 4,
   "id": "a8dbc4fb",
   "metadata": {},
   "outputs": [
    {
     "name": "stdout",
     "output_type": "stream",
     "text": [
      " IISER MOHALI Institute Academics Research People Outreach 79th Independence Day Celebration at IISER Mohali International Yoga Day Celebration at IISER Mohali IISER Mohali awarded degrees to 316 Graduating Students IISER Mohali Science Festival - Inaugurated by Hon'ble Education Minister of Punjab Science demonstrations & competitions The Hon'ble Vice-President of India interacts with IISER Mohali Faculty, Students & Staff Visit of Hon'ble Vice-President of India to IISER Mohali Tattva 2025 Science Fest - Celebrating the essence of Scientific Curiosity  76th Republic Day Celebration at IISER Mohali 500+ School students at IISER Mohali for National Space Day Annual Science Festival Lectures by Dr. Anjan Ray & Dr. Srivari Chandrashekhar Students awarded for outstanding performance in Academics & Sports FACULTY ACHIEVEMENTS PROFESSOR ANIL KUMAR TRIPATHI Director, IISER Mohali Elected as Vice President (Science Promotion) of INSA  1800 school students across tricity visited IISER Mohali  SPOTLIGHTS  DEPARTMENTS  ACADEMIC PROGRAMMES  EVENTS UPCOMING GALLERY\n",
      "\n",
      " website policy  Copyright Policy  Privacy Policy  Terms of use  Website Feedback Connect with us IISER Mohali, Knowledge city, Sector 81, SAS Nagar, Manauli PO 140306Telefax : 2240266, 2240124 \n",
      "+91 - 172 - 2240266\n",
      " +91 - 172 - 2240266 +91 - 172 - 2240266    Administrative Sections  Directorate  Registrar Office  General Administration  Recruitment  Establishment  Purchase & Stores Campus Facilities   Library   Computer Center  Visitors Hostel  Institute Dispensary  Sports Facilities  Counselling Service  Transport  Day Care Departments   Biological Sciences   Physical Sciences   Chemical Sciences   Mathematical Sciences   Humanities & Social Sciences   Earth & Environmental Sciences committees  Central Research Facility Committees  NIRF   ICC - Internal Complaints Committee  Grievance Committee  SC/ST/OBC Committee  Safety & Ethics Committees  Research Advisory Committee  Others Archive  Public Lectures   Conferences  News Archives  In the Media  Press Release  Institute Events  Events Calendar  Faculty Achievements  Alumni News Links  Academies of Science   CCS Conduct Rules  Funding Agencies  MHRD Funded Institutes  CRIKC Institutes   MoE   IISER System Quick Find  Admission News  Anti-ragging committee  Campus Facilities  Convocation  Careers  Download Forms   ERP  eSanad   Holiday Calendar-2025   Holiday Calendar-2026  Home   Hostel Rules & Guidelines  ICC - Internal Complaints Committee   MOODLE  News & Announcements  NIRF   Opportunity Cell  Reach Us  RTI   SRC - Student Representative Council   Ticketing System Advertisements   Tenders / EOI CAREERS  Faculty Recruitments  Research Positions  Non-Teaching Positions © Copyright IISER Mohali  2025.     |     Hosting & Maintenance by IISER Mohali Computer Center     |     Image Credits - IISERM Lumiere Club & Community Members  Institute  Academics  Research  People  Outreach Search\n"
     ]
    }
   ],
   "source": [
    "from bs4 import BeautifulSoup\n",
    "\n",
    "# Parse the HTML content\n",
    "soup = BeautifulSoup(html_content, 'html.parser')\n",
    "# html\n",
    "# ├── head\n",
    "# │   └── title → 'IISER Mohali'\n",
    "# └── body\n",
    "#     ├── h1 → 'Welcome to IISER Mohali'\n",
    "#     ├── p  → 'Indian Institute...'\n",
    "#     └── p  → 'Established by...'\n",
    "# We are assuming that all text content is within these tags.\n",
    "# This is a very basic assumption and may not work for all websites.\n",
    "# Best way to check is to inspect the website and see where the text lies.\n",
    "# Extract text from common tags\n",
    "valid_tags = ['p', 'h1', 'h2', 'h3', 'h4', 'h5', 'h6', 'li'] # valid tags only from the html file, h->heading, p->paragraph, li->list\n",
    "text = \" \".join([element.get_text() for element in soup.find_all(valid_tags)]) # join the entire string into one.\n",
    "\n",
    "print(text[:])  # print characters\n"
   ]
  },
  {
   "cell_type": "markdown",
   "id": "344cf0f7",
   "metadata": {},
   "source": [
    "Now after getting the 'text' part , our next step is to clean the text we get after parsing.\n",
    "This includes getting rid of symbols , punctuations and numbers and converting all the text to lower case, so that we can standardize the text for word frequency analysis . \n"
   ]
  },
  {
   "cell_type": "code",
   "execution_count": null,
   "id": "6d28da43",
   "metadata": {},
   "outputs": [
    {
     "data": {
      "text/plain": [
       "'iiser mohali institute academics research people outreach th independence day celebration at iiser mohali international yoga day celebration at iiser mohali iiser mohali awarded degrees to graduating students iiser mohali science festival inaugurated by hon ble education minister of punjab science demonstrations competitions the hon ble vice president of india interacts with iiser mohali faculty students staff visit of hon ble vice president of india to iiser mohali tattva science fest celebrating the essence of scientific curiosity th republic day celebration at iiser mohali school students at iiser mohali for national space day annual science festival lectures by dr anjan ray dr srivari chandrashekhar students awarded for outstanding performance in academics sports faculty achievements professor anil kumar tripathi director iiser mohali elected as vice president science promotion of insa school students across tricity visited iiser mohali spotlights departments academic programmes events upcoming gallery website policy copyright policy privacy policy terms of use website feedback connect with us iiser mohali knowledge city sector sas nagar manauli po telefax administrative sections directorate registrar office general administration recruitment establishment purchase stores campus facilities library computer center visitors hostel institute dispensary sports facilities counselling service transport day care departments biological sciences physical sciences chemical sciences mathematical sciences humanities social sciences earth environmental sciences committees central research facility committees nirf icc internal complaints committee grievance committee sc st obc committee safety ethics committees research advisory committee others archive public lectures conferences news archives in the media press release institute events events calendar faculty achievements alumni news links academies of science ccs conduct rules funding agencies mhrd funded institutes crikc institutes moe iiser system quick find admission news anti ragging committee campus facilities convocation careers download forms erp esanad holiday calendar holiday calendar home hostel rules guidelines icc internal complaints committee moodle news announcements nirf opportunity cell reach us rti src student representative council ticketing system advertisements tenders eoi careers faculty recruitments research positions non teaching positions copyright iiser mohali hosting maintenance by iiser mohali computer center image credits iiserm lumiere club community members institute academics research people outreach search'"
      ]
     },
     "execution_count": 15,
     "metadata": {},
     "output_type": "execute_result"
    }
   ],
   "source": [
    "import re\n",
    "\n",
    "def clean(text:str) -> str:\n",
    "\n",
    "   text = text.lower() #convert text to lower case\n",
    "\n",
    "   text =re.sub(r'[^a-z\\s]', ' ',text)\n",
    "\n",
    "   text = re.sub(r'\\b(?![ai]\\b)[a-z]\\b',' ',text)\n",
    "\n",
    "   text = re.sub(r'\\s+',' ',text).strip()\n",
    "\n",
    "   return text\n",
    "\n",
    "clean(text)\n"
   ]
  },
  {
   "cell_type": "markdown",
   "id": "96e9018b",
   "metadata": {},
   "source": [
    "##### Now we will break the string into single words and count the frequencies.\n",
    "##### That is, tokenize, count and store."
   ]
  },
  {
   "cell_type": "code",
   "execution_count": null,
   "id": "6e9f0679",
   "metadata": {},
   "outputs": [],
   "source": [
    "from collections import Counter\n",
    "\n",
    "def count_words(cleaned_text: str) -> Counter:\n",
    "    \"\"\"\n",
    "    Takes a cleaned text string (only lowercase letters and spaces),\n",
    "    returns a Counter mapping word -> frequency.\n",
    "    \"\"\""
   ]
  }
 ],
 "metadata": {
  "kernelspec": {
   "display_name": "Python (dsenv)",
   "language": "python",
   "name": "dsenv"
  }
 },
 "nbformat": 4,
 "nbformat_minor": 5
}
