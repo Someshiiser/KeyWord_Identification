{
 "cells": [
  {
   "cell_type": "code",
   "execution_count": 3,
   "id": "20a1a7f4",
   "metadata": {},
   "outputs": [
    {
     "name": "stdout",
     "output_type": "stream",
     "text": [
      "Successfully fetched the webpage!\n"
     ]
    }
   ],
   "source": [
    "import requests  # Python library to send HTTP requests.\n",
    "\n",
    "url = \"https://www.iisermohali.ac.in/\"\n",
    "\n",
    "response = requests.get(url)\n",
    "\n",
    "# Check if request succeeded\n",
    "if response.status_code == 200:\n",
    "    html_content = response.text  # This is the raw HTML\n",
    "    print(\"Successfully fetched the webpage!\")\n",
    "else:\n",
    "    print(\"Failed to fetch the webpage. Status code:\", response.status_code)\n"
   ]
  },
  {
   "cell_type": "code",
   "execution_count": null,
   "id": "a8dbc4fb",
   "metadata": {},
   "outputs": [
    {
     "name": "stdout",
     "output_type": "stream",
     "text": [
      " IISER MOHALI Institute Academics Research People Outreach 79th Independence Day Celebration at IISER Mohali International Yoga Day Celebration at IISER Mohali IISER Mohali awarded degrees to 316 Graduating Students IISER Mohali Science Festival - Inaugurated by Hon'ble Education Minister of Punjab Science demonstrations & competitions The Hon'ble Vice-President of India interacts with IISER Mohali Faculty, Students & Staff Visit of Hon'ble Vice-President of India to IISER Mohali Tattva 2025 Science Fest - Celebrating the essence of Scientific Curiosity  76th Republic Day Celebration at IISER Mohali 500+ School students at IISER Mohali for National Space Day Annual Science Festival Lectures by Dr. Anjan Ray & Dr. Srivari Chandrashekhar Students awarded for outstanding performance in Academics & Sports FACULTY ACHIEVEMENTS PROFESSOR ANIL KUMAR TRIPATHI Director, IISER Mohali Elected as Vice President (Science Promotion) of INSA  1800 school students across tricity visited IISER Mohali  SPOTLIGHTS  DEPARTMENTS  ACADEMIC PROGRAMMES  EVENTS UPCOMING GALLERY\n",
      "\n",
      " website policy  Copyright Policy  Privacy Policy  Terms of use  Website Feedback Connect with us IISER Mohali, Knowledge city, Sector 81, SAS Nagar, Manauli PO 140306Telefax : 2240266, 2240124 \n",
      "+91 - 172 - 2240266\n",
      " +91 - 172 - 2240266 +91 - 172 - 2240266    Administrative Sections  Directorate  Registrar Office  General Administration  Recruitment  Establishment  Purchase & Stores Campus Facilities   Library   Computer Center  Visitors Hostel  Institute Dispensary  Sports Facilities  Counselling Service  Transport  Day Care Departments   Biological Sciences   Physical Sciences   Chemical Sciences   Mathematical Sciences   Humanities & Social Sciences   Earth & Environmental Sciences committees  Central Research Facility Committees  NIRF   ICC - Internal Complaints Committee  Grievance Committee  SC/ST/OBC Committee  Safety & Ethics Committees  Research Advisory Committee  Others Archive  Public Lectures   Conferences  News Archives  In the Media  Press Release  Institute Events  Events Calendar  Faculty Achievements  Alumni News Links  Academies of Science   CCS Conduct Rules  Funding Agencies  MHRD Funded Institutes  CRIKC Institutes   MoE   IISER System Quick Find  Admission News  Anti-ragging committee  Campus Facilities  Convocation  Careers  Download Forms   ERP  eSanad   Holiday Calendar-2025   Holiday Calendar-2026  Home   Hostel Rules & Guidelines  ICC - Internal Complaints Committee   MOODLE  News & Announcements  NIRF   Opportunity Cell  Reach Us  RTI   SRC - Student Representative Council   Ticketing System Advertisements   Tenders / EOI CAREERS  Faculty Recruitments  Research Positions  Non-Teaching Positions © Copyright IISER Mohali  2025.     |     Hosting & Maintenance by IISER Mohali Computer Center     |     Image Credits - IISERM Lumiere Club & Community Members  Institute  Academics  Research  People  Outreach Search\n"
     ]
    }
   ],
   "source": [
    "from bs4 import BeautifulSoup\n",
    "\n",
    "# Parse the HTML content\n",
    "soup = BeautifulSoup(html_content, 'html.parser')\n",
    "# it makes html\n",
    "#├── head\n",
    "#│   └── title → 'IISER Mohali'\n",
    "#└── body\n",
    "#    ├── h1 → 'Welcome to IISER Mohali'\n",
    "#    ├── p  → 'Indian Institute...'\n",
    "#    └── p  → 'Established by...'\n",
    "#\n",
    "\n",
    "# Extract text from common tags\n",
    "valid_tags = ['p', 'h1', 'h2', 'h3', 'h4', 'h5', 'h6', 'li'] # these are the tags useful, h-> heading, li-> list, p-> paragraph\n",
    "text = \" \".join([element.get_text() for element in soup.find_all(valid_tags)]) # join all different with the single space.\n",
    "\n",
    "print(text[:])  # print first 500 characters\n"
   ]
  },
  {
   "cell_type": "markdown",
   "id": "410d3f40",
   "metadata": {},
   "source": []
  },
  {
   "cell_type": "code",
   "execution_count": null,
   "id": "6d28da43",
   "metadata": {},
   "outputs": [],
   "source": []
  }
 ],
 "metadata": {
  "kernelspec": {
   "display_name": "Python (dsenv)",
   "language": "python",
   "name": "dsenv"
  },
  "language_info": {
   "codemirror_mode": {
    "name": "ipython",
    "version": 3
   },
   "file_extension": ".py",
   "mimetype": "text/x-python",
   "name": "python",
   "nbconvert_exporter": "python",
   "pygments_lexer": "ipython3",
   "version": "3.9.23"
  }
 },
 "nbformat": 4,
 "nbformat_minor": 5
}
