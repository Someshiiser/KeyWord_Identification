{
 "cells": [
  {
   "cell_type": "markdown",
   "id": "04f3353b",
   "metadata": {},
   "source": [
    "Key Word Identification"
   ]
  },
  {
   "cell_type": "code",
   "execution_count": 6,
   "id": "397f0d41",
   "metadata": {},
   "outputs": [],
   "source": [
    "import requests\n",
    "import re\n",
    "from bs4 import BeautifulSoup\n",
    "import sqlite3\n",
    "from collections import Counter\n",
    "import matplotlib.pyplot as plt\n",
    "import squarify"
   ]
  },
  {
   "cell_type": "code",
   "execution_count": 7,
   "id": "671ad492",
   "metadata": {},
   "outputs": [],
   "source": [
    "def clean_text(text: str):\n",
    "    # Convert text to lowercase for uniformity\n",
    "    text = text.lower()\n",
    "    # Remove all non-alphabetic characters (retain spaces)\n",
    "    text = re.sub(r'[^a-z\\s]', ' ', text)\n",
    "    # Remove single-letter words except 'a' and 'i'\n",
    "    text = re.sub(r'\\b(?![ai]\\b)[a-z]\\b', ' ', text)\n",
    "    # Replace multiple spaces with a single space and strip leading/trailing spaces\n",
    "    text = re.sub(r'\\s+', ' ', text).strip()\n",
    "    return text"
   ]
  }
 ],
 "metadata": {
  "kernelspec": {
   "display_name": "Python (dsenv)",
   "language": "python",
   "name": "dsenv"
  },
  "language_info": {
   "codemirror_mode": {
    "name": "ipython",
    "version": 3
   },
   "file_extension": ".py",
   "mimetype": "text/x-python",
   "name": "python",
   "nbconvert_exporter": "python",
   "pygments_lexer": "ipython3",
   "version": "3.9.23"
  }
 },
 "nbformat": 4,
 "nbformat_minor": 5
}
