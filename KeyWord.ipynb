{
 "cells": [
  {
   "cell_type": "markdown",
   "id": "04f3353b",
   "metadata": {},
   "source": [
    "Key Word Identification"
   ]
  },
  {
   "cell_type": "code",
   "execution_count": 28,
   "id": "397f0d41",
   "metadata": {},
   "outputs": [],
   "source": [
    "import requests\n",
    "import re\n",
    "from bs4 import BeautifulSoup\n",
    "import sqlite3\n",
    "from collections import Counter\n",
    "import matplotlib.pyplot as plt\n",
    "import squarify"
   ]
  },
  {
   "cell_type": "code",
   "execution_count": 29,
   "id": "671ad492",
   "metadata": {},
   "outputs": [],
   "source": [
    "def clean_text(text: str):\n",
    "    # Convert text to lowercase for uniformity\n",
    "    text = text.lower()\n",
    "    # Remove all non-alphabetic characters (retain spaces)\n",
    "    text = re.sub(r'[^a-z\\s]', ' ', text)\n",
    "    # Remove single-letter words except 'a' and 'i'\n",
    "    text = re.sub(r'\\b(?![ai]\\b)[a-z]\\b', ' ', text)\n",
    "    # Replace multiple spaces with a single space and strip leading/trailing spaces\n",
    "    text = re.sub(r'\\s+', ' ', text).strip()\n",
    "    return text\n",
    "\n",
    "# Somesh\n"
   ]
  },
  {
   "cell_type": "code",
   "execution_count": 30,
   "id": "149d7718",
   "metadata": {},
   "outputs": [],
   "source": [
    "def scrape_text_from_url(url: str) -> str:\n",
    "    # Automatically fetch the HTML Content of the webpage.\n",
    "    response = requests.get(url)\n",
    "    # Response code 200 means it was successful.\n",
    "    # Other response codes mean there was an error,\n",
    "    # You can check the list of response codes.\n",
    "    if response.status_code == 200:\n",
    "        soup = BeautifulSoup(response.text, 'html.parser')\n",
    "        # We are assuming that all text content is within these tags.\n",
    "        # This is a very basic assumption and may not work for all websites.\n",
    "        # Best way to check is to inspect the website and see where the text lies.\n",
    "        # You can watch a basic video on how html works.\n",
    "        valid_tags = ['p', 'h1', 'h2', 'h3', 'h4', 'h5', 'h6', 'li']\n",
    "        #connect all the text in the valid tags\n",
    "        text = \" \".join(element.get_text() for element in soup.find_all(valid_tags))\n",
    "        text = clean_text(text)\n",
    "        \n",
    "        return text\n",
    "    else:\n",
    "        # Sometimes while fetching the URL,\n",
    "        # there might be some unrecoverable error\n",
    "        raise Exception(f\"Failed to fetch the URL: {url}\")\n",
    "\n",
    "# Somesh"
   ]
  },
  {
   "cell_type": "markdown",
   "id": "9dbf293d",
   "metadata": {},
   "source": [
    "Local SQLite database. The default name is `words.db`.\n",
    "If `words.db` does not contain a table called `word_frequency`, the table will be created and populated with the word frequency data from the given text file."
   ]
  },
  {
   "cell_type": "code",
   "execution_count": 31,
   "id": "ad5a76e5",
   "metadata": {},
   "outputs": [],
   "source": [
    "def store_words_in_db(\n",
    "    words: list, db_name: str = 'words.db', table_name : str = 'word_frequency'\n",
    ") -> None:\n",
    "    conn = sqlite3.connect(db_name)\n",
    "    cursor = conn.cursor()\n",
    "    cursor.execute(f\"CREATE TABLE IF NOT EXISTS {table_name} (word TEXT, frequency INTEGER)\")\n",
    "    \n",
    "    word_counts = Counter(words)\n",
    "    for word, freq in word_counts.items():\n",
    "        cursor.execute(f\"INSERT INTO {table_name} (word, frequency) VALUES (?, ?)\", (word, freq))\n",
    "    \n",
    "    conn.commit()\n",
    "    conn.close()"
   ]
  },
  {
   "cell_type": "markdown",
   "id": "fd6f4fc3",
   "metadata": {},
   "source": [
    "Storing information in a database is independent of reading the information from database. To simulate real life, when we often work on the database directly without populating it again. We have created a separate function to read the data from the database."
   ]
  },
  {
   "cell_type": "code",
   "execution_count": null,
   "id": "c6c0f8f0",
   "metadata": {},
   "outputs": [],
   "source": []
  }
 ],
 "metadata": {
  "jupytext": {
   "formats": "ipynb,py:percent"
  },
  "kernelspec": {
   "display_name": "Python (dsenv)",
   "language": "python",
   "name": "dsenv"
  },
  "language_info": {
   "codemirror_mode": {
    "name": "ipython",
    "version": 3
   },
   "file_extension": ".py",
   "mimetype": "text/x-python",
   "name": "python",
   "nbconvert_exporter": "python",
   "pygments_lexer": "ipython3",
   "version": "3.9.23"
  }
 },
 "nbformat": 4,
 "nbformat_minor": 5
}
