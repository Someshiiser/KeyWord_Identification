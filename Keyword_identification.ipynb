{
 "cells": [
  {
   "cell_type": "markdown",
   "id": "83da9700",
   "metadata": {},
   "source": [
    "## KEYWORD IDENTIFICATION"
   ]
  },
  {
   "cell_type": "code",
   "execution_count": null,
   "id": "667e10ca",
   "metadata": {},
   "outputs": [],
   "source": [
    "import requests  # Python library to send HTTP requests.\n",
    "from bs4 import BeautifulSoup\n",
    "import re\n",
    "from collections import Counter\n",
    "import sqlite3\n",
    "from typing import Dict, Iterable, Tuple"
   ]
  },
  {
   "cell_type": "markdown",
   "id": "6a1f0801",
   "metadata": {},
   "source": [
    "### We will first do scarping, cleaning and counting for the site."
   ]
  },
  {
   "cell_type": "code",
   "execution_count": 48,
   "id": "2d29ee59",
   "metadata": {},
   "outputs": [],
   "source": [
    "def scrape_clean_count(url: str):\n",
    "\n",
    "    #-------------------------------------------------------------------------------------------------------------------------------#\n",
    "    #-------------------------------------------------------GETTING URL-------------------------------------------------------------#  \n",
    "    #-------------------------------------------------------------------------------------------------------------------------------#  \n",
    "    \n",
    "    response = requests.get(url)\n",
    "    # Check if request succeeded\n",
    "    if response.status_code == 200: # This typically means done succesfully.\n",
    "        html_content = response.text  # This is the raw HTML.\n",
    "        print(\"Successfully fetched the webpage!\")\n",
    "    else:\n",
    "        print(\"Failed to fetch the webpage. Status code:\", response.status_code)\n",
    "    # with the webpage taken in successfully, we have entire html script that can be checked by uncommeting below line.\n",
    "    # print(html_content)\n",
    "\n",
    "\n",
    "\n",
    "    #-------------------------------------------------------------------------------------------------------------------------------#\n",
    "    #-------------------------------------------------GETTING, THINGS INSIDE VALID HTML TAGS----------------------------------------#  \n",
    "    #-------------------------------------------------------------------------------------------------------------------------------#  \n",
    "\n",
    "    # now we need to extract the text out from this html.\n",
    "    # Parse the HTML content\n",
    "    soup = BeautifulSoup(html_content, 'html.parser')\n",
    "    # html\n",
    "    # ├── head\n",
    "    # │   └── title → 'IISER Mohali'\n",
    "    # └── body\n",
    "    #     ├── h1 → 'Welcome to IISER Mohali'\n",
    "    #     ├── p  → 'Indian Institute...'\n",
    "    #     └── p  → 'Established by...'\n",
    "    # We are assuming that all text content is within these tags.\n",
    "    # This is a very basic assumption and may not work for all websites.\n",
    "    # Best way to check is to inspect the website and see where the text lies.\n",
    "    # Extract text from common tags\n",
    "    valid_tags = ['p', 'h1', 'h2', 'h3', 'h4', 'h5', 'h6', 'li'] # valid tags only from the html file, h->heading, p->paragraph, li->list\n",
    "    text = \" \".join([element.get_text() for element in soup.find_all(valid_tags)]) # join the entire string into one.\n",
    "    # print(text) # uncomment this to check the text at this moment, you see everything in the associated tags. \n",
    "\n",
    "\n",
    "\n",
    "    #-------------------------------------------------------------------------------------------------------------------------------#\n",
    "    #-------------------------------------CLEANING THE TEXT TO GET LOGICAL WORDS (TO SOME EXTENT)-----------------------------------#  \n",
    "    #-------------------------------------------------------------------------------------------------------------------------------#  \n",
    "\n",
    "    # As noted the text is not clean, it contains numbers, symbol, characters and everything, that may or my not be of physical significance.\n",
    "    # but we logial words, and therefore we do the following:\n",
    "    Clean_text = text.lower() #convert text to lower case.\n",
    "    Clean_text =re.sub(r'[^a-z\\s]', ' ',Clean_text) # remove all except alphabets and replace with space.\n",
    "    Clean_text = re.sub(r'\\b(?![ai]\\b)[a-z]\\b',' ',Clean_text) # remove all single letters except a and i, replace with space.\n",
    "    Clean_text = re.sub(r'\\s+',' ',Clean_text).strip() # remove multiple spaces to replace with single space.\n",
    "    #print(Clean_text) # uncomment here to verify thism, we have the clean string of words from the site seperated by the space.\n",
    "\n",
    "\n",
    "\n",
    "    #-------------------------------------------------------------------------------------------------------------------------------#\n",
    "    #-------------------------------------------COUNTING AND GETTING THE FREQUENCY--------------------------------------------------#  \n",
    "    #-------------------------------------------------------------------------------------------------------------------------------# \n",
    "    \n",
    "    # Now we need to go through the string and get the unique words, and frequency (i.e. number of times the word appeared).\n",
    "    Words = Clean_text.split() # splits the cleaned string over white spaces.\n",
    "    Word_counter = Counter(Words) # gets frequency of words alongwith words to check uncomment below.\n",
    "    #print (Word_counter) \n",
    "    # for observation properly uncomment below \n",
    "    #most_used = Word_counter.most_common() # top 20 or as needed by frequency.\n",
    "    #for word,freq in most_used:\n",
    "    #    print(f\"{word:>12} : {freq}\")\n",
    "    #\n",
    "    # Now we have words alongwith their frequency store in the Word_counter, which is the dictionary\n",
    "    \n",
    "    return # Word_counter # if need to visulaize\n",
    "\n",
    "\n",
    "# to see how the function's output looks like\n",
    "#scrape_clean_count(\"https://www.iisermohali.ac.in/\")"
   ]
  },
  {
   "cell_type": "markdown",
   "id": "56f5de55",
   "metadata": {},
   "source": [
    "### With word counting done, next we store data in SQLite3."
   ]
  },
  {
   "cell_type": "code",
   "execution_count": null,
   "id": "9cd19454",
   "metadata": {},
   "outputs": [],
   "source": []
  }
 ],
 "metadata": {
  "kernelspec": {
   "display_name": "Python (dsenv2)",
   "language": "python",
   "name": "dsenv2"
  },
  "language_info": {
   "codemirror_mode": {
    "name": "ipython",
    "version": 3
   },
   "file_extension": ".py",
   "mimetype": "text/x-python",
   "name": "python",
   "nbconvert_exporter": "python",
   "pygments_lexer": "ipython3",
   "version": "3.12.12"
  }
 },
 "nbformat": 4,
 "nbformat_minor": 5
}
